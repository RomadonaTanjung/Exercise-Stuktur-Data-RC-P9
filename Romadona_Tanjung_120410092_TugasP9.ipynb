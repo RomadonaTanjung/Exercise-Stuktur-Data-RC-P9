{
  "nbformat": 4,
  "nbformat_minor": 0,
  "metadata": {
    "colab": {
      "provenance": [],
      "authorship_tag": "ABX9TyMZtqLtmUDhme6/6ZkmcDFB",
      "include_colab_link": true
    },
    "kernelspec": {
      "name": "python3",
      "display_name": "Python 3"
    },
    "language_info": {
      "name": "python"
    }
  },
  "cells": [
    {
      "cell_type": "markdown",
      "metadata": {
        "id": "view-in-github",
        "colab_type": "text"
      },
      "source": [
        "<a href=\"https://colab.research.google.com/github/RomadonaTanjung/Exercise-Stuktur-Data-RC-P9/blob/main/Romadona_Tanjung_120410092_TugasP9.ipynb\" target=\"_parent\"><img src=\"https://colab.research.google.com/assets/colab-badge.svg\" alt=\"Open In Colab\"/></a>"
      ]
    },
    {
      "cell_type": "markdown",
      "source": [
        "Romadona Tanjung _ 120410092 _ struktur data RC\n",
        "\n",
        "# **Class and Object**\n",
        "\n",
        "1. Jelaskan definisi Class!\n",
        "2. Jelaskan perbedaan Attribute dengan Method!\n",
        "3. Jelaskan apa itu instansiasi Object!\n",
        "4. Jelaskan apa itu identifier!\n",
        "\n",
        "1.Cetakan yang menjadi dasar dari objek-objek yang akan digunakan 2.Atribut adalah segala sesuatu yang terdapat dalam suatu objek. Sementara method adalah fungsi yang berada di dalam kelas yang beroperasi dengan variabel-variabel yang terdapat dalam class 3.Intiasi objek adalah mendeklarasikan variabel variabel global 4.Nama yang dipakai dalam jangka panjang untuk sebuah objek\n",
        "\n",
        "# **Implementing** **Class**\n",
        "Implementasikan kelas diagram \"Kendaraan\" berikut ke dalam Python!\n",
        "\n",
        "Class Kendaraan :\n",
        "\n",
        "- string nomorPlat\n",
        "- string merk\n",
        "- string jenis\n",
        "- string warna\n",
        "- int tanggalBeli\n",
        "- int bulanBeli\n",
        "- int tahunBeli\n",
        "- double berat\n",
        "- double harga\n",
        "- showTanggalPembelian()"
      ],
      "metadata": {
        "id": "5KCYcdlZwcyJ"
      }
    },
    {
      "cell_type": "code",
      "execution_count": null,
      "metadata": {
        "colab": {
          "base_uri": "https://localhost:8080/"
        },
        "id": "ygFjkRpNwYU1",
        "outputId": "90c8cfdf-bca5-489f-8eb9-235a80a08e58"
      },
      "outputs": [
        {
          "output_type": "stream",
          "name": "stdout",
          "text": [
            "rtfbh, ygy, trail, merah,24/11/2000, 'harga:38000000','berat:105'\n"
          ]
        }
      ],
      "source": [
        "class kendaraan:\n",
        "        def __init__(self,nomorplat, jenis, warna, merk, tanggalbeli, bulanbeli, tahunbeli, harga, berat):\n",
        "            self.nomorplat=nomorplat\n",
        "            self.merk=merk\n",
        "            self.jenis=jenis\n",
        "            self.warna=warna\n",
        "            self.tanggalbeli=tanggalbeli\n",
        "            self.bulanbeli=bulanbeli\n",
        "            self.tahunbeli=tahunbeli\n",
        "            self.harga=harga\n",
        "            self.berat=berat\n",
        "        def show_tanggal_pembelian(self):\n",
        "            print(f\"{self.nomorplat}, {self.merk}, {self.jenis}, {self.warna},{self.tanggalbeli}/{self.bulanbeli}/{self.tahunbeli}, 'harga:{self.harga}','berat:{self.berat}'\")\n",
        "Beli = kendaraan(\"rtfbh\", \"trail\", \"merah\", \"ygy\", 24, 11, 2000,38000000 , 105)\n",
        "Beli.show_tanggal_pembelian()"
      ]
    },
    {
      "cell_type": "markdown",
      "source": [
        "# **Main OOP Concept**\n",
        "1. Jelaskan konsep encapsulation dalam Paradigma Object-Oriented!\n",
        "2. Jelaskan konsep inheritance dalam Paradigma Object-Oriented!\n",
        "3. Jelaskan perbedaan public method dan private method dalam encapsulation!\n",
        "4. Jelaskan perbedaan superclass dan subclass dalam inheritance!\n",
        "\n",
        "1.Enkapsulasi adalah fungsi fungsi yang dihimpun dalam sebuah class 2.Inheritance adalah sifat sifat yang diturunkan class terhadap fungsi-fungsi yang berada di dalamnya sehingga setiap fungsi memiliki sifat yang mirip dengan fungsi yang lainnya 3.Publik adalah variabel yang dapat diakses oleh seluruh fungsi sementara privat adalah fungsi yang hanya bisa diakses oleh fungsi yang mendeklarasikannya 4.Superclass adalah kelas yang menghimpun subclass sementara subclass adalah class yang berada di dalam superclass\n",
        "\n",
        "# **Programming Exercise**\n",
        "\n",
        "Buatlah class diagram dari code python berikut ini:\n",
        "\n"
      ],
      "metadata": {
        "id": "luPXC6nuzWkg"
      }
    },
    {
      "cell_type": "code",
      "source": [
        "class Koordinat:\n",
        "def __init__(self ,x ,y ):\n",
        "    self.z = 0\n",
        "    self.x = x\n",
        "    self.y = y\n",
        "def set_x(self,x):\n",
        "    self.x = x\n",
        "def increment_x(self):\n",
        "    self.x+=1\n",
        "def __str__(self):\n",
        "    return f\"x : {self.x} , y:{self.y} , z:{self.z}\""
      ],
      "metadata": {
        "colab": {
          "base_uri": "https://localhost:8080/",
          "height": 130
        },
        "id": "h7YrAeTPzkWS",
        "outputId": "afe50215-b3f1-42a4-b716-4ac5cecf63ce"
      },
      "execution_count": null,
      "outputs": [
        {
          "output_type": "error",
          "ename": "IndentationError",
          "evalue": "ignored",
          "traceback": [
            "\u001b[0;36m  File \u001b[0;32m\"<ipython-input-9-2f93b5fab080>\"\u001b[0;36m, line \u001b[0;32m2\u001b[0m\n\u001b[0;31m    def __init__(self ,x ,y ):\u001b[0m\n\u001b[0m      ^\u001b[0m\n\u001b[0;31mIndentationError\u001b[0m\u001b[0;31m:\u001b[0m expected an indented block\n"
          ]
        }
      ]
    },
    {
      "cell_type": "markdown",
      "source": [
        "Implementasikan class diagram berikut menjadi program python!\n",
        "\n",
        "classDiagram class Koordinat{ int x int y int z setx() sety() setz() } class Vector{ Koordinat koordinat setKoordinat() getKoordinat() norm() }\n",
        "\n",
        "\n",
        "- fungsi norm() adalah fungsi untuk menghitung norm dari sebuah vector yaitu\n",
        "norm = $\\sqrt{x^2 + y^2 + z^2}$ . Buatlah fungsi untuk menghitung norm dari vector berdasarkan class yang telah anda buat! \n",
        "\n",
        "- Euclidian Distance adalah jarak antara 2 vector dan didefinisikan sebagai \n",
        "$$d = \\sqrt{ (x_1 - x_2)^2 + (y_1 - y_2)^2 + (z_1 - z_2)^2 } $$\n",
        "buatlah program untuk menghitung euclidian distance antara 2 vector berdasarkan class yang telah anda buat!\n",
        "\n",
        "- Perhatikan tabel berikut\n",
        "\n",
        "| Vector | x   | y   | z   | kelas |\n",
        "| ------ | --- | --- | --- | ----- |\n",
        "| A      | 0   | 1   | 1   | 0     |\n",
        "| B      | 2   | 2   | 2   | 1     |\n",
        "| C      | 1.5 | 1.2 | 1.5 | 1     |\n",
        "| D      | 10  | 9   | 8   | 0     |\n",
        "| E      | 5   | 5   | 5   | 0     |\n",
        "| F      | 8   | 8   | 8   | 0     |\n",
        "| G      | 6   | 6   | 1   | 0     |\n",
        "| H      | 3   | 3   | 3   | ?     |\n",
        "\n",
        "Salah satu metode dalam data science untuk melakukan klasifikasi adalah dengan menggunakan k-nearest neighbor, dimana cara menentukan label kelas adalah dengan cara melihat tetangga dengan euclidian distance terdekat. Tentukan kelas dari vector H dengan cara:\n",
        "- Tentukan 3 tetangga paling dekat dari H \n",
        "- dari 3 tetangga tersebut, pilih kelas yang paling banyak muncul\n",
        "- Jadikan kelas yang paling banyak muncul tersebut sebagai kelas dari vector H\n",
        "\n",
        "Implementasikan algoritma tersebut menggunakan program python dengan paradigma object-oriented programming yang telah anda pelajari!"
      ],
      "metadata": {
        "id": "B1Dt8DLx0R0r"
      }
    },
    {
      "cell_type": "code",
      "source": [
        "from math import sqrt\n",
        "import statistics\n",
        "class Vektor:\n",
        "  def __init__(self, vektor, x, y, z, NamaVektor):\n",
        "    self.vektor = vektor\n",
        "    self.x = x\n",
        "    self.y = y\n",
        "    self.z = z\n",
        "    self.NamaVektor = NamaVektor\n",
        "    self.KelasH = 0\n",
        "  def Panjang(self):\n",
        "    vktr = []\n",
        "    Panjang = []\n",
        "    # Panjang ttngg\n",
        "    for i in self.vektor:\n",
        "        komponen_vektor = list(self.vektor[i].values())\n",
        "        def dekat(komponen_vektor):\n",
        "            DistanceJarak = 0\n",
        "            for i in komponen_vektor:\n",
        "                DistanceJarak = sqrt((self.x-komponen_vektor[1])**2 + (self.y-komponen_vektor[2])**2 + (self.z-komponen_vektor[3])**2)\n",
        "            return DistanceJarak\n",
        "        vktr = vktr + [self.vektor[i]]\n",
        "        Panjang = Panjang + [round(dekat(komponen_vektor), 2)]\n",
        "        print(f\"Panjang vektor {self.vektor[i]['vektor']} dengan vektor H adalah sebesar {round(dekat(komponen_vektor), 2)}\")\n",
        "    Nilai_Sortir = sorted(Panjang)\n",
        "    ttngg = {}\n",
        "    for i in range(len(Panjang)):\n",
        "        ttngg[Panjang[i]] = vktr[i]    \n",
        "    print(\"Urutannya adalah:\")\n",
        "    for j in range(len(Nilai_Sortir)): \n",
        "        print(f\"Panjang vektor {ttngg[Nilai_Sortir[j]]['vektor']} dengan vektor H adalah sebesar {Nilai_Sortir[j]}\")\n",
        "    print(\"3 Tetangga terdekat:\")\n",
        "    kelas = []\n",
        "    for k in range(3):\n",
        "        print(f\"Vektor {ttngg[Nilai_Sortir[k]]['vektor']} dengan kelas {ttngg[Nilai_Sortir[k]]['kelas']} pada Panjang {Nilai_Sortir[k]} dengan vektor H\")\n",
        "        kelas = kelas + [ttngg[Nilai_Sortir[k]]['kelas']]\n",
        "    self.KelasH = statistics.mode(kelas)\n",
        "  print(\"Kelas yang paling banyak muncul adalah = \", self.KelasH)\n",
        "  print(\"Kelas dari vektor H = \", self.KelasH)\n",
        "def hasil(self):\n",
        "  return {'vektor': self.NamaVektor, 'x' : self.x, 'y' : self.y, 'z': self.z, 'kelas': self.KelasH}"
      ],
      "metadata": {
        "colab": {
          "base_uri": "https://localhost:8080/",
          "height": 356
        },
        "id": "Du58USYj1d9c",
        "outputId": "56a25b3a-a9b9-41d7-a3f6-ffc650e4836f"
      },
      "execution_count": null,
      "outputs": [
        {
          "output_type": "error",
          "ename": "NameError",
          "evalue": "ignored",
          "traceback": [
            "\u001b[0;31m---------------------------------------------------------------------------\u001b[0m",
            "\u001b[0;31mNameError\u001b[0m                                 Traceback (most recent call last)",
            "\u001b[0;32m<ipython-input-7-f07f17192331>\u001b[0m in \u001b[0;36m<module>\u001b[0;34m\u001b[0m\n\u001b[1;32m      1\u001b[0m \u001b[0;32mfrom\u001b[0m \u001b[0mmath\u001b[0m \u001b[0;32mimport\u001b[0m \u001b[0msqrt\u001b[0m\u001b[0;34m\u001b[0m\u001b[0;34m\u001b[0m\u001b[0m\n\u001b[1;32m      2\u001b[0m \u001b[0;32mimport\u001b[0m \u001b[0mstatistics\u001b[0m\u001b[0;34m\u001b[0m\u001b[0;34m\u001b[0m\u001b[0m\n\u001b[0;32m----> 3\u001b[0;31m \u001b[0;32mclass\u001b[0m \u001b[0mVektor\u001b[0m\u001b[0;34m:\u001b[0m\u001b[0;34m\u001b[0m\u001b[0;34m\u001b[0m\u001b[0m\n\u001b[0m\u001b[1;32m      4\u001b[0m   \u001b[0;32mdef\u001b[0m \u001b[0m__init__\u001b[0m\u001b[0;34m(\u001b[0m\u001b[0mself\u001b[0m\u001b[0;34m,\u001b[0m \u001b[0mvektor\u001b[0m\u001b[0;34m,\u001b[0m \u001b[0mx\u001b[0m\u001b[0;34m,\u001b[0m \u001b[0my\u001b[0m\u001b[0;34m,\u001b[0m \u001b[0mz\u001b[0m\u001b[0;34m,\u001b[0m \u001b[0mNamaVektor\u001b[0m\u001b[0;34m)\u001b[0m\u001b[0;34m:\u001b[0m\u001b[0;34m\u001b[0m\u001b[0;34m\u001b[0m\u001b[0m\n\u001b[1;32m      5\u001b[0m     \u001b[0mself\u001b[0m\u001b[0;34m.\u001b[0m\u001b[0mvektor\u001b[0m \u001b[0;34m=\u001b[0m \u001b[0mvektor\u001b[0m\u001b[0;34m\u001b[0m\u001b[0;34m\u001b[0m\u001b[0m\n",
            "\u001b[0;32m<ipython-input-7-f07f17192331>\u001b[0m in \u001b[0;36mVektor\u001b[0;34m()\u001b[0m\n\u001b[1;32m     36\u001b[0m         \u001b[0mkelas\u001b[0m \u001b[0;34m=\u001b[0m \u001b[0mkelas\u001b[0m \u001b[0;34m+\u001b[0m \u001b[0;34m[\u001b[0m\u001b[0mttngg\u001b[0m\u001b[0;34m[\u001b[0m\u001b[0mNilai_Sortir\u001b[0m\u001b[0;34m[\u001b[0m\u001b[0mk\u001b[0m\u001b[0;34m]\u001b[0m\u001b[0;34m]\u001b[0m\u001b[0;34m[\u001b[0m\u001b[0;34m'kelas'\u001b[0m\u001b[0;34m]\u001b[0m\u001b[0;34m]\u001b[0m\u001b[0;34m\u001b[0m\u001b[0;34m\u001b[0m\u001b[0m\n\u001b[1;32m     37\u001b[0m     \u001b[0mself\u001b[0m\u001b[0;34m.\u001b[0m\u001b[0mKelasH\u001b[0m \u001b[0;34m=\u001b[0m \u001b[0mstatistics\u001b[0m\u001b[0;34m.\u001b[0m\u001b[0mmode\u001b[0m\u001b[0;34m(\u001b[0m\u001b[0mkelas\u001b[0m\u001b[0;34m)\u001b[0m\u001b[0;34m\u001b[0m\u001b[0;34m\u001b[0m\u001b[0m\n\u001b[0;32m---> 38\u001b[0;31m   \u001b[0mprint\u001b[0m\u001b[0;34m(\u001b[0m\u001b[0;34m\"Kelas yang paling banyak muncul adalah = \"\u001b[0m\u001b[0;34m,\u001b[0m \u001b[0mself\u001b[0m\u001b[0;34m.\u001b[0m\u001b[0mKelasH\u001b[0m\u001b[0;34m)\u001b[0m\u001b[0;34m\u001b[0m\u001b[0;34m\u001b[0m\u001b[0m\n\u001b[0m\u001b[1;32m     39\u001b[0m   \u001b[0mprint\u001b[0m\u001b[0;34m(\u001b[0m\u001b[0;34m\"Kelas dari vektor H = \"\u001b[0m\u001b[0;34m,\u001b[0m \u001b[0mself\u001b[0m\u001b[0;34m.\u001b[0m\u001b[0mKelasH\u001b[0m\u001b[0;34m)\u001b[0m\u001b[0;34m\u001b[0m\u001b[0;34m\u001b[0m\u001b[0m\n\u001b[1;32m     40\u001b[0m \u001b[0;32mdef\u001b[0m \u001b[0mhasil\u001b[0m\u001b[0;34m(\u001b[0m\u001b[0mself\u001b[0m\u001b[0;34m)\u001b[0m\u001b[0;34m:\u001b[0m\u001b[0;34m\u001b[0m\u001b[0;34m\u001b[0m\u001b[0m\n",
            "\u001b[0;31mNameError\u001b[0m: name 'self' is not defined"
          ]
        }
      ]
    },
    {
      "cell_type": "code",
      "source": [
        "def hasil(self):\n",
        "    return {'vektor': self.NamaVektor, 'x' : self.x, 'y' : self.y, 'z': self.z, 'kelas': self.KelasH}\n",
        "TableOfVevtor = {\n",
        "    \"vektor1\" : {'vektor': 'A', 'x' : 0, 'y' : 1, 'z': 1, 'kelas': 0 },\n",
        "    \"vektor2\" : {'vektor': 'B', 'x' : 2, 'y' : 2, 'z': 2, 'kelas': 1},\n",
        "    \"vektor3\" : {'vektor': 'C', 'x' : 1.5, 'y' : 1.2, 'z': 1, 'kelas': 1},\n",
        "    \"vektor4\" : {'vektor': 'D', 'x' : 10, 'y' : 9, 'z': 0, 'kelas': 0},\n",
        "    \"vektor5\" : {'vektor': 'E', 'x' : 5, 'y' : 5, 'z': 5, 'kelas': 0},\n",
        "    \"vektor6\" : {'vektor': 'F', 'x' : 8, 'y' : 8, 'z': 0, 'kelas': 0},\n",
        "    \"vektor7\" : {'vektor': 'G', 'x' : 6, 'y' : 6, 'z': 0, 'kelas': 0},\n",
        "}\n",
        "for KeyOfVector in TableOfVevtor:\n",
        "    print(TableOfVevtor[KeyOfVector])\n",
        "print(\"\\n\")\n",
        "data = Vektor(TableOfVevtor, 3, 3, 3, \"H\")\n",
        "data.Panjang()\n",
        "print(data.hasil())\n",
        "TableOfVevtor[\"vektor8\"] = data.hasil()\n",
        "print(\"\\n\")\n",
        "for KeyOfVector in TableOfVevtor:\n",
        "    print(TableOfVevtor[KeyOfVector])"
      ],
      "metadata": {
        "colab": {
          "base_uri": "https://localhost:8080/",
          "height": 391
        },
        "id": "gxQHmKZQ1v4w",
        "outputId": "898f5490-f871-4ea2-d568-ecfd42f99c5d"
      },
      "execution_count": null,
      "outputs": [
        {
          "output_type": "stream",
          "name": "stdout",
          "text": [
            "{'vektor': 'A', 'x': 0, 'y': 1, 'z': 1, 'kelas': 0}\n",
            "{'vektor': 'B', 'x': 2, 'y': 2, 'z': 2, 'kelas': 1}\n",
            "{'vektor': 'C', 'x': 1.5, 'y': 1.2, 'z': 1, 'kelas': 1}\n",
            "{'vektor': 'D', 'x': 10, 'y': 9, 'z': 0, 'kelas': 0}\n",
            "{'vektor': 'E', 'x': 5, 'y': 5, 'z': 5, 'kelas': 0}\n",
            "{'vektor': 'F', 'x': 8, 'y': 8, 'z': 0, 'kelas': 0}\n",
            "{'vektor': 'G', 'x': 6, 'y': 6, 'z': 0, 'kelas': 0}\n",
            "\n",
            "\n"
          ]
        },
        {
          "output_type": "error",
          "ename": "NameError",
          "evalue": "ignored",
          "traceback": [
            "\u001b[0;31m---------------------------------------------------------------------------\u001b[0m",
            "\u001b[0;31mNameError\u001b[0m                                 Traceback (most recent call last)",
            "\u001b[0;32m<ipython-input-8-b48e8d445486>\u001b[0m in \u001b[0;36m<module>\u001b[0;34m\u001b[0m\n\u001b[1;32m     13\u001b[0m     \u001b[0mprint\u001b[0m\u001b[0;34m(\u001b[0m\u001b[0mTableOfVevtor\u001b[0m\u001b[0;34m[\u001b[0m\u001b[0mKeyOfVector\u001b[0m\u001b[0;34m]\u001b[0m\u001b[0;34m)\u001b[0m\u001b[0;34m\u001b[0m\u001b[0;34m\u001b[0m\u001b[0m\n\u001b[1;32m     14\u001b[0m \u001b[0mprint\u001b[0m\u001b[0;34m(\u001b[0m\u001b[0;34m\"\\n\"\u001b[0m\u001b[0;34m)\u001b[0m\u001b[0;34m\u001b[0m\u001b[0;34m\u001b[0m\u001b[0m\n\u001b[0;32m---> 15\u001b[0;31m \u001b[0mdata\u001b[0m \u001b[0;34m=\u001b[0m \u001b[0mVektor\u001b[0m\u001b[0;34m(\u001b[0m\u001b[0mTableOfVevtor\u001b[0m\u001b[0;34m,\u001b[0m \u001b[0;36m3\u001b[0m\u001b[0;34m,\u001b[0m \u001b[0;36m3\u001b[0m\u001b[0;34m,\u001b[0m \u001b[0;36m3\u001b[0m\u001b[0;34m,\u001b[0m \u001b[0;34m\"H\"\u001b[0m\u001b[0;34m)\u001b[0m\u001b[0;34m\u001b[0m\u001b[0;34m\u001b[0m\u001b[0m\n\u001b[0m\u001b[1;32m     16\u001b[0m \u001b[0mdata\u001b[0m\u001b[0;34m.\u001b[0m\u001b[0mPanjang\u001b[0m\u001b[0;34m(\u001b[0m\u001b[0;34m)\u001b[0m\u001b[0;34m\u001b[0m\u001b[0;34m\u001b[0m\u001b[0m\n\u001b[1;32m     17\u001b[0m \u001b[0mprint\u001b[0m\u001b[0;34m(\u001b[0m\u001b[0mdata\u001b[0m\u001b[0;34m.\u001b[0m\u001b[0mhasil\u001b[0m\u001b[0;34m(\u001b[0m\u001b[0;34m)\u001b[0m\u001b[0;34m)\u001b[0m\u001b[0;34m\u001b[0m\u001b[0;34m\u001b[0m\u001b[0m\n",
            "\u001b[0;31mNameError\u001b[0m: name 'Vektor' is not defined"
          ]
        }
      ]
    },
    {
      "cell_type": "code",
      "execution_count": null,
      "metadata": {
        "id": "vffrNvkQAtFW"
      },
      "outputs": [],
      "source": []
    }
  ]
}